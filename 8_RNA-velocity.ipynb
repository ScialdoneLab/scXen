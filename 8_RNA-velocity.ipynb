{
 "cells": [
  {
   "cell_type": "markdown",
   "metadata": {},
   "source": [
    "# RNA velocity analysis"
   ]
  },
  {
   "cell_type": "markdown",
   "metadata": {},
   "source": [
    "We perform the analysis on the batches SIGAH5 (IVF) and SIGAH12 (NT)"
   ]
  },
  {
   "cell_type": "code",
   "execution_count": null,
   "metadata": {},
   "outputs": [],
   "source": [
    "%matplotlib inline"
   ]
  },
  {
   "cell_type": "code",
   "execution_count": null,
   "metadata": {},
   "outputs": [],
   "source": [
    "import numpy as np\n",
    "import pandas as pd\n",
    "import scanpy as sc\n",
    "import anndata as ad\n",
    "import scvelo as scv"
   ]
  },
  {
   "cell_type": "code",
   "execution_count": null,
   "metadata": {},
   "outputs": [],
   "source": [
    "import cellrank as cr\n",
    "from cellrank.tl.kernels import VelocityKernel\n",
    "from cellrank.tl.kernels import ConnectivityKernel\n",
    "from cellrank.tl.estimators import GPCCA"
   ]
  },
  {
   "cell_type": "code",
   "execution_count": null,
   "metadata": {},
   "outputs": [],
   "source": [
    "print(scv.__version__)\n",
    "print(cr.__version__)\n",
    "print(sc.__version__)\n",
    "print(ad.__version__)"
   ]
  },
  {
   "cell_type": "code",
   "execution_count": null,
   "metadata": {},
   "outputs": [],
   "source": [
    "scv.logging.print_version()"
   ]
  },
  {
   "cell_type": "code",
   "execution_count": null,
   "metadata": {},
   "outputs": [],
   "source": [
    "import matplotlib\n",
    "\n",
    "matplotlib.__version__"
   ]
  },
  {
   "cell_type": "code",
   "execution_count": null,
   "metadata": {},
   "outputs": [],
   "source": [
    "# Load the files with metadata informations\n",
    "rnavelo_folder='./data_utils/'\n",
    "\n",
    "# Load the first 2 UMAP components (original UMAP used for clustering)\n",
    "umap_tot=pd.read_csv(rnavelo_folder+'full_umap.csv',index_col=0)\n",
    "\n",
    "umap_tot.index=umap_tot.index.str.replace('.1', '')\n",
    "\n",
    "cell_names_SIGAH5=np.loadtxt(rnavelo_folder+'SIGAH5_cell_names.txt',dtype=str)\n",
    "cell_names_SIGAH12=np.loadtxt(rnavelo_folder+'SIGAH12_cell_names.txt',dtype=str)\n",
    "\n",
    "cell_names_SIGAH5=[s.replace('.1', '') for s in list(cell_names_SIGAH5)]\n",
    "cell_names_SIGAH12=[s.replace('.1', '') for s in list(cell_names_SIGAH12)]\n",
    "\n",
    "my_color_palette=np.loadtxt(rnavelo_folder+'cluster_colors.txt',dtype=str,comments='/')"
   ]
  },
  {
   "cell_type": "code",
   "execution_count": null,
   "metadata": {},
   "outputs": [],
   "source": [
    "print(len(cell_names_SIGAH5),len(set(cell_names_SIGAH5)))\n",
    "print(len(cell_names_SIGAH12),len(set(cell_names_SIGAH12)))"
   ]
  },
  {
   "cell_type": "code",
   "execution_count": null,
   "metadata": {},
   "outputs": [],
   "source": [
    "# Load Chris' loom files\n",
    "loom_folder='./loom_files/'\n",
    "\n",
    "adata_SIGAH5=scv.read(loom_folder+'SIGAH5_IVF.loom', sparse=True,cache=True)\n",
    "adata_SIGAH12=scv.read(loom_folder+'SIGAH12_NT.loom', sparse=True,cache=True)\n",
    "\n",
    "adata_SIGAH5.var_names_make_unique()\n",
    "adata_SIGAH12.var_names_make_unique()\n",
    "\n",
    "adata_SIGAH5.obs.index=adata_SIGAH5.obs.index.str.replace('SIGAH5_91_Chm3_FC2:', '')\n",
    "adata_SIGAH5.obs.index=adata_SIGAH5.obs.index.str.replace('x', '')\n",
    "\n",
    "adata_SIGAH12.obs.index=adata_SIGAH12.obs.index.str.replace('SIGAH12_91_Chm3_FC2:', '')\n",
    "adata_SIGAH12.obs.index=adata_SIGAH12.obs.index.str.replace('x', '')\n",
    "\n",
    "# We eliminated cells from cluster 10 and outlier cells from cluster 6 from our dataset,\n",
    "# so we eliminate them accordingly also from the matrices obtained from the loom files\n",
    "adata_SIGAH5=adata_SIGAH5[cell_names_SIGAH5,:]\n",
    "adata_SIGAH12=adata_SIGAH12[cell_names_SIGAH12,:]\n",
    "\n",
    "# Assign umap coordinates and cluster labels to each batch\n",
    "\n",
    "# Original UMAP\n",
    "umap_SIGAH5_tot=umap_tot.loc[cell_names_SIGAH5,:]\n",
    "umap_SIGAH12_tot=umap_tot.loc[cell_names_SIGAH12,:]\n",
    "\n",
    "cluster_labels_SIGAH5=cluster_labels_exp2.loc[cell_names_SIGAH5,:]\n",
    "cluster_labels_SIGAH12=cluster_labels_exp2.loc[cell_names_SIGAH12,:]\n",
    "\n",
    "# Check the order of the cells, assign UMAP coordinates and cluster labels\n",
    "\n",
    "# Original UMAP\n",
    "umap_SIGAH5_tot=umap_SIGAH5_tot.reindex(adata_SIGAH5.obs_names)\n",
    "umap_SIGAH12_tot=umap_SIGAH12_tot.reindex(adata_SIGAH12.obs_names)\n",
    "\n",
    "cluster_labels_SIGAH5=cluster_labels_SIGAH5.reindex(adata_SIGAH5.obs_names)\n",
    "cluster_labels_SIGAH12=cluster_labels_SIGAH12.reindex(adata_SIGAH12.obs_names)"
   ]
  },
  {
   "cell_type": "code",
   "execution_count": null,
   "metadata": {},
   "outputs": [],
   "source": [
    "# Check order of the cells\n",
    "print('Original UMAP coords')\n",
    "print(list(adata_SIGAH5.obs_names) == list(umap_SIGAH5_tot.index))\n",
    "print(list(adata_SIGAH12.obs_names) == list(umap_SIGAH12_tot.index))\n",
    "\n",
    "print('Cluster labels')\n",
    "print(list(adata_SIGAH5.obs_names) == list(cluster_labels_SIGAH5.index))\n",
    "print(list(adata_SIGAH12.obs_names) == list(cluster_labels_SIGAH12.index))"
   ]
  },
  {
   "cell_type": "code",
   "execution_count": null,
   "metadata": {},
   "outputs": [],
   "source": [
    "adata_SIGAH5.obs['seurat_clusters']=list(cluster_labels_SIGAH5['seurat_clusters'])\n",
    "adata_SIGAH12.obs['seurat_clusters']=list(cluster_labels_SIGAH12['seurat_clusters'])\n",
    "\n",
    "# Original UMAP stored in X_umap\n",
    "adata_SIGAH5.obsm['X_umap']=np.array(umap_SIGAH5_tot[['UMAP_1','UMAP_2']])\n",
    "adata_SIGAH12.obsm['X_umap']=np.array(umap_SIGAH12_tot[['UMAP_1','UMAP_2']])\n",
    "\n",
    "adata_SIGAH5.obs['seurat_clusters']=adata_SIGAH5.obs['seurat_clusters'].astype('category')\n",
    "adata_SIGAH12.obs['seurat_clusters']=adata_SIGAH12.obs['seurat_clusters'].astype('category')\n",
    "\n",
    "adata_SIGAH5.uns['seurat_clusters_colors']=my_color_palette\n",
    "adata_SIGAH12.uns['seurat_clusters_colors']=my_color_palette"
   ]
  },
  {
   "cell_type": "code",
   "execution_count": null,
   "metadata": {},
   "outputs": [],
   "source": [
    "def RNAVeloWrap(adata,batch,label,cond,cl_lab):\n",
    "    scv.utils.show_proportions(adata)\n",
    "    scv.pp.filter_genes(adata,min_cells=10)\n",
    "    scv.pp.filter_and_normalize(adata, min_counts=20, min_counts_u=10, n_top_genes=2000)\n",
    "    adata.raw=adata\n",
    "    scv.pp.moments(adata, n_pcs=30, n_neighbors=30)\n",
    "    scv.tl.recover_dynamics(adata)\n",
    "    scv.tl.velocity(adata, mode='dynamical')\n",
    "    scv.tl.velocity_graph(adata)\n",
    "    scv.tl.velocity_embedding(adata, basis=my_basis) \n",
    "    scv.tl.paga(adata, groups=cl_lab)\n",
    "    df = scv.get_df(adata, 'paga/transitions_confidence', precision=2).T\n",
    "    print('velo genes',adata.var['velocity_genes'].sum())"
   ]
  },
  {
   "cell_type": "code",
   "execution_count": null,
   "metadata": {},
   "outputs": [],
   "source": [
    "# Run RNA velocity analysis\n",
    "RNAVeloWrap(adata_SIGAH5,batch='SIGAH5',label='total',cond='IVF',cl_lab='seurat_clusters')\n",
    "RNAVeloWrap(adata_SIGAH12,batch='SIGAH12',label='total',cond='NT',cl_lab='seurat_clusters')"
   ]
  },
  {
   "cell_type": "markdown",
   "metadata": {},
   "source": [
    "# Save the results of RNA velocity analysis"
   ]
  },
  {
   "cell_type": "code",
   "execution_count": null,
   "metadata": {},
   "outputs": [],
   "source": [
    "velo_folder='./RNA_velo_processed_data/'\n",
    "adata_SIGAH5.write_h5ad(velo_folder+'data_SIGAH5.h5ad')\n",
    "adata_SIGAH12.write_h5ad(velo_folder+'data_SIGAH12.h5ad')"
   ]
  }
 ],
 "metadata": {
  "kernelspec": {
   "display_name": "scvelo-venv",
   "language": "python",
   "name": "scvelo-venv"
  },
  "language_info": {
   "codemirror_mode": {
    "name": "ipython",
    "version": 3
   },
   "file_extension": ".py",
   "mimetype": "text/x-python",
   "name": "python",
   "nbconvert_exporter": "python",
   "pygments_lexer": "ipython3",
   "version": "3.7.7"
  },
  "toc": {
   "base_numbering": 1,
   "nav_menu": {},
   "number_sections": true,
   "sideBar": true,
   "skip_h1_title": false,
   "title_cell": "Table of Contents",
   "title_sidebar": "Contents",
   "toc_cell": false,
   "toc_position": {},
   "toc_section_display": true,
   "toc_window_display": false
  }
 },
 "nbformat": 4,
 "nbformat_minor": 2
}
