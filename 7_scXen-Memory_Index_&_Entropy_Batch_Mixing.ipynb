{
 "cells": [
  {
   "cell_type": "markdown",
   "metadata": {
    "kernel": "SoS"
   },
   "source": [
    "# Definition of a memory index"
   ]
  },
  {
   "cell_type": "markdown",
   "metadata": {
    "kernel": "SoS"
   },
   "source": [
    "31/10/2020\n",
    "\n",
    "1. We compute the mean expression of the ON-memory genes from bulk RNA-seq data in each cell\n",
    "\n",
    "2. Divide by the maximum over all the cells\n",
    "\n",
    "3. Violin plot of the memory index per cluster divided by condition\n",
    "\n",
    "4. Test clusters for significant memory\n",
    "\n",
    "\n",
    "Note: this analysis should be revised"
   ]
  },
  {
   "cell_type": "code",
   "execution_count": 2,
   "metadata": {
    "kernel": "SoS"
   },
   "outputs": [],
   "source": [
    "%matplotlib inline"
   ]
  },
  {
   "cell_type": "code",
   "execution_count": null,
   "metadata": {
    "kernel": "R"
   },
   "outputs": [],
   "source": [
    "library(\"Seurat\")\n",
    "\n",
    "xenopus.combined <- readRDS(file = \"xenopus_combined_and_clustered_no_out.rds\")"
   ]
  },
  {
   "cell_type": "code",
   "execution_count": null,
   "metadata": {
    "kernel": "SoS"
   },
   "outputs": [],
   "source": [
    "import pandas as pd\n",
    "\n",
    "ON_mem_df=pd.read_csv('EndoNT_Filter_DonorsvsIVFdownFDR_DonsRPKM1_IVFvsNT_FDRup__OnMemFDR.csv')\n",
    "\n",
    "ON_mem_old=list(ON_mem_df['Row.names'])\n",
    "\n",
    "ON_mem_new=[]\n",
    "\n",
    "for i in ON_mem_old:\n",
    "    lst=i.split('_')\n",
    "    if 'unnamed' in lst[1]:\n",
    "        ON_mem_new.append(lst[0])\n",
    "    else:\n",
    "        ON_mem_new.append(lst[1])\n",
    "len(ON_mem_new)"
   ]
  },
  {
   "cell_type": "code",
   "execution_count": null,
   "metadata": {
    "kernel": "R"
   },
   "outputs": [],
   "source": [
    "%get ON_mem_new\n",
    "\n",
    "xenopus.subset <- subset(xenopus.combined,idents=c('0','1','2','3','4','5','6','7','8','9'))\n",
    "xenopus.subset <- subset(xenopus.subset, features=ON_mem_new)\n",
    "mat.xenopus <- as.data.frame(GetAssayData(object = xenopus.subset))\n",
    "metadata.xenopus <- xenopus.subset[[]]"
   ]
  },
  {
   "cell_type": "code",
   "execution_count": null,
   "metadata": {
    "kernel": "SoS"
   },
   "outputs": [],
   "source": [
    "%get mat.xenopus --from R\n",
    "%get metadata.xenopus --from R\n",
    "\n",
    "mat_xenopus=mat_xenopus.T\n",
    "mat_xenopus_mean=pd.DataFrame(mat_xenopus.mean(axis=1))\n",
    "#mat_xenopus_mean/=mat_xenopus_mean.max()"
   ]
  },
  {
   "cell_type": "code",
   "execution_count": null,
   "metadata": {
    "kernel": "SoS"
   },
   "outputs": [],
   "source": [
    "from scipy.stats import mannwhitneyu\n",
    "\n",
    "mat_xenopus_mean['isnt']=metadata_xenopus['isnt']\n",
    "mat_xenopus_mean['seurat_clusters']=metadata_xenopus['seurat_clusters']\n",
    "\n",
    "# Perform Wilcoxon test between IVF and NT in each cluster\n",
    "for i in range(10):\n",
    "    tmp_df=mat_xenopus_mean[mat_xenopus_mean['seurat_clusters']==str(i)]\n",
    "    tmp_df_IVF=tmp_df[tmp_df['isnt']=='IVF']\n",
    "    tmp_df_NT=tmp_df[tmp_df['isnt']=='NT']\n",
    "    print(i,mannwhitneyu(tmp_df_IVF[0],tmp_df_NT[0])[1])\n",
    "    "
   ]
  },
  {
   "cell_type": "code",
   "execution_count": null,
   "metadata": {
    "kernel": "R"
   },
   "outputs": [],
   "source": [
    "%get mat_xenopus_mean\n",
    "\n",
    "xenopus.subset[['memory.index']] <- mat_xenopus_mean\n",
    "\n",
    "VlnPlot(xenopus.subset, features = 'memory.index' ,split.by='stim')\n",
    "VlnPlot(xenopus.subset, features = 'memory.index' ,split.by='isnt')\n",
    "\n",
    "FeaturePlot(xenopus.subset,pt.size=3, reduction = \"umap\", features = \"memory.index\")"
   ]
  },
  {
   "cell_type": "markdown",
   "metadata": {
    "kernel": "R"
   },
   "source": [
    "# Entropy of batch mixing"
   ]
  },
  {
   "cell_type": "markdown",
   "metadata": {
    "kernel": "R"
   },
   "source": [
    "Look at [Haghverdi et al, 2018](https://www.nature.com/articles/nbt.4091), section \"Entropy of batch mixing\""
   ]
  },
  {
   "cell_type": "markdown",
   "metadata": {
    "kernel": "R"
   },
   "source": [
    "TO BE DONE"
   ]
  }
 ],
 "metadata": {
  "kernelspec": {
   "display_name": "SoS",
   "language": "sos",
   "name": "sos"
  },
  "language_info": {
   "codemirror_mode": "sos",
   "file_extension": ".sos",
   "mimetype": "text/x-sos",
   "name": "sos",
   "nbconvert_exporter": "sos_notebook.converter.SoS_Exporter",
   "pygments_lexer": "sos"
  },
  "sos": {
   "kernels": [
    [
     "R",
     "ir",
     "R",
     "#DCDCDA",
     ""
    ],
    [
     "SoS",
     "sos",
     "",
     "",
     "sos"
    ]
   ],
   "panel": {
    "displayed": true,
    "height": 0
   },
   "version": "0.19.3"
  },
  "toc": {
   "base_numbering": 1,
   "nav_menu": {},
   "number_sections": true,
   "sideBar": true,
   "skip_h1_title": false,
   "title_cell": "Table of Contents",
   "title_sidebar": "Contents",
   "toc_cell": false,
   "toc_position": {},
   "toc_section_display": true,
   "toc_window_display": false
  }
 },
 "nbformat": 4,
 "nbformat_minor": 2
}
