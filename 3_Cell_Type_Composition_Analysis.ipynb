{
 "cells": [
  {
   "cell_type": "markdown",
   "metadata": {
    "kernel": "SoS"
   },
   "source": [
    "# Cell type composition analysis"
   ]
  },
  {
   "cell_type": "markdown",
   "metadata": {
    "kernel": "SoS"
   },
   "source": [
    "We perform an analysis of cell type composition per condition (IVF/NT) using a generalised linear model."
   ]
  },
  {
   "cell_type": "code",
   "execution_count": 1,
   "metadata": {
    "kernel": "SoS"
   },
   "outputs": [],
   "source": [
    "%matplotlib inline"
   ]
  },
  {
   "cell_type": "code",
   "execution_count": 2,
   "metadata": {
    "kernel": "R"
   },
   "outputs": [],
   "source": [
    "library(Seurat)\n",
    "library(ggplot2)\n",
    "library(cowplot)\n",
    "library(repr)\n",
    "\n",
    "options(repr.plot.width=7,repr.plot.height=7)\n",
    "\n",
    "#Load the data\n",
    "xenopus.combined <- readRDS(file = \"scXeLaev.rds\")"
   ]
  },
  {
   "cell_type": "markdown",
   "metadata": {
    "kernel": "R"
   },
   "source": [
    "# Bar plots of cluster composition"
   ]
  },
  {
   "cell_type": "markdown",
   "metadata": {
    "kernel": "R"
   },
   "source": [
    "Some general plots of cluster composition by condition and batch"
   ]
  },
  {
   "cell_type": "code",
   "execution_count": 3,
   "metadata": {
    "kernel": "R"
   },
   "outputs": [],
   "source": [
    "sizes <- as.vector(table(Idents(xenopus.combined)))\n",
    "isnt <- as.data.frame.matrix(table(Idents(xenopus.combined), xenopus.combined$isnt))\n",
    "batch <- as.data.frame.matrix(table(Idents(xenopus.combined), xenopus.combined$stim))"
   ]
  },
  {
   "cell_type": "code",
   "execution_count": 4,
   "metadata": {
    "kernel": "SoS"
   },
   "outputs": [
    {
     "name": "stderr",
     "output_type": "stream",
     "text": [
      "Loading required package: feather\n",
      "\n"
     ]
    }
   ],
   "source": [
    "%get sizes --from R\n",
    "%get isnt --from R\n",
    "%get batch --from R"
   ]
  },
  {
   "cell_type": "code",
   "execution_count": 5,
   "metadata": {
    "kernel": "SoS"
   },
   "outputs": [
    {
     "data": {
      "text/html": [
       "<div>\n",
       "<style scoped>\n",
       "    .dataframe tbody tr th:only-of-type {\n",
       "        vertical-align: middle;\n",
       "    }\n",
       "\n",
       "    .dataframe tbody tr th {\n",
       "        vertical-align: top;\n",
       "    }\n",
       "\n",
       "    .dataframe thead th {\n",
       "        text-align: right;\n",
       "    }\n",
       "</style>\n",
       "<table border=\"1\" class=\"dataframe\">\n",
       "  <thead>\n",
       "    <tr style=\"text-align: right;\">\n",
       "      <th></th>\n",
       "      <th>IVF</th>\n",
       "      <th>NT</th>\n",
       "    </tr>\n",
       "  </thead>\n",
       "  <tbody>\n",
       "    <tr>\n",
       "      <th>0</th>\n",
       "      <td>358</td>\n",
       "      <td>390</td>\n",
       "    </tr>\n",
       "    <tr>\n",
       "      <th>1</th>\n",
       "      <td>435</td>\n",
       "      <td>297</td>\n",
       "    </tr>\n",
       "    <tr>\n",
       "      <th>2</th>\n",
       "      <td>209</td>\n",
       "      <td>203</td>\n",
       "    </tr>\n",
       "    <tr>\n",
       "      <th>3</th>\n",
       "      <td>243</td>\n",
       "      <td>104</td>\n",
       "    </tr>\n",
       "    <tr>\n",
       "      <th>4</th>\n",
       "      <td>105</td>\n",
       "      <td>161</td>\n",
       "    </tr>\n",
       "    <tr>\n",
       "      <th>5</th>\n",
       "      <td>119</td>\n",
       "      <td>101</td>\n",
       "    </tr>\n",
       "    <tr>\n",
       "      <th>6</th>\n",
       "      <td>72</td>\n",
       "      <td>91</td>\n",
       "    </tr>\n",
       "    <tr>\n",
       "      <th>7</th>\n",
       "      <td>122</td>\n",
       "      <td>51</td>\n",
       "    </tr>\n",
       "    <tr>\n",
       "      <th>8</th>\n",
       "      <td>132</td>\n",
       "      <td>37</td>\n",
       "    </tr>\n",
       "    <tr>\n",
       "      <th>9</th>\n",
       "      <td>31</td>\n",
       "      <td>103</td>\n",
       "    </tr>\n",
       "  </tbody>\n",
       "</table>\n",
       "</div>"
      ],
      "text/plain": [
       "   IVF   NT\n",
       "0  358  390\n",
       "1  435  297\n",
       "2  209  203\n",
       "3  243  104\n",
       "4  105  161\n",
       "5  119  101\n",
       "6   72   91\n",
       "7  122   51\n",
       "8  132   37\n",
       "9   31  103"
      ]
     },
     "execution_count": 5,
     "metadata": {},
     "output_type": "execute_result"
    }
   ],
   "source": [
    "isnt"
   ]
  },
  {
   "cell_type": "code",
   "execution_count": 6,
   "metadata": {
    "kernel": "SoS"
   },
   "outputs": [
    {
     "data": {
      "text/plain": [
       "[748, 732, 412, 347, 266, 220, 163, 173, 169, 134]"
      ]
     },
     "execution_count": 6,
     "metadata": {},
     "output_type": "execute_result"
    }
   ],
   "source": [
    "sizes"
   ]
  },
  {
   "cell_type": "code",
   "execution_count": 6,
   "metadata": {
    "kernel": "SoS"
   },
   "outputs": [
    {
     "data": {
      "text/plain": [
       "<BarContainer object of 10 artists>"
      ]
     },
     "execution_count": 6,
     "metadata": {},
     "output_type": "execute_result"
    },
    {
     "data": {
      "image/png": "[encoded data removed]",
      "text/plain": [
       "<Figure size 432x288 with 1 Axes>"
      ]
     },
     "metadata": {
      "needs_background": "light"
     },
     "output_type": "display_data"
    }
   ],
   "source": [
    "import matplotlib.pyplot as plt\n",
    "import numpy as np\n",
    "import matplotlib\n",
    "\n",
    "matplotlib.rcParams.update({'font.size': 18})\n",
    "\n",
    "fig = plt.figure()\n",
    "ax = fig.add_axes([0,0,1,1])\n",
    "ax.set_xlabel('Clusters')\n",
    "ax.set_ylabel('Cluster size')\n",
    "clus = ['0','1','2','3','4','5','6','7','8','9']\n",
    "ax.bar(clus,sizes)\n",
    "# plt.savefig('bar_clus_size.pdf',bbox_inches='tight')"
   ]
  },
  {
   "cell_type": "code",
   "execution_count": 7,
   "metadata": {
    "kernel": "SoS"
   },
   "outputs": [],
   "source": [
    "isnt=isnt.div(isnt.sum(axis=0))\n",
    "isnt=100*isnt.div(isnt.sum(axis=1),axis=0)"
   ]
  },
  {
   "cell_type": "code",
   "execution_count": 8,
   "metadata": {
    "kernel": "R"
   },
   "outputs": [],
   "source": [
    "#Get Seurat colors of the conditions\n",
    "p <- Seurat::DimPlot(xenopus.combined, reduction = \"umap\", \n",
    "                     group.by = \"isnt\")\n",
    " # Generate the tSNE plot, but save it as an object\n",
    "pbuild <- ggplot2::ggplot_build(p) # Use ggplot_build to deconstruct the ggplot object\n",
    "pdata <- pbuild$data[[1]] # Pull the data used for the plot\n",
    "pdata <-  pdata[order(pdata$group), ] # Order the plot data by group\n",
    "ucols <- unique(pdata$colour) # Get a vector of unique colors\n",
    "names(ucols) <- unique(pdata$group) # Add the groups to the vector of colors as names"
   ]
  },
  {
   "cell_type": "code",
   "execution_count": 9,
   "metadata": {
    "kernel": "R"
   },
   "outputs": [
    {
     "data": {
      "text/html": [
       "<style>\n",
       ".dl-inline {width: auto; margin:0; padding: 0}\n",
       ".dl-inline>dt, .dl-inline>dd {float: none; width: auto; display: inline-block}\n",
       ".dl-inline>dt::after {content: \":\\0020\"; padding-right: .5ex}\n",
       ".dl-inline>dt:not(:first-of-type) {padding-left: .5ex}\n",
       "</style><dl class=dl-inline><dt>1</dt><dd>'#F8766D'</dd><dt>2</dt><dd>'#00BFC4'</dd></dl>\n"
      ],
      "text/latex": [
       "\\begin{description*}\n",
       "\\item[1] '\\#F8766D'\n",
       "\\item[2] '\\#00BFC4'\n",
       "\\end{description*}\n"
      ],
      "text/markdown": [
       "1\n",
       ":   '#F8766D'2\n",
       ":   '#00BFC4'\n",
       "\n"
      ],
      "text/plain": [
       "        1         2 \n",
       "\"#F8766D\" \"#00BFC4\" "
      ]
     },
     "metadata": {},
     "output_type": "display_data"
    }
   ],
   "source": [
    "ucols"
   ]
  },
  {
   "cell_type": "code",
   "execution_count": 10,
   "metadata": {
    "kernel": "SoS"
   },
   "outputs": [
    {
     "data": {
      "text/plain": [
       "Text(0.5, 1.0, 'Cluster composition by condition')"
      ]
     },
     "execution_count": 10,
     "metadata": {},
     "output_type": "execute_result"
    },
    {
     "data": {
      "text/plain": [
       "<Figure size 432x288 with 0 Axes>"
      ]
     },
     "metadata": {},
     "output_type": "display_data"
    },
    {
     "data": {
      "image/png": "[encoded data removed]",
      "text/plain": [
       "<Figure size 432x288 with 1 Axes>"
      ]
     },
     "metadata": {
      "needs_background": "light"
     },
     "output_type": "display_data"
    }
   ],
   "source": [
    "%get ucols --from R\n",
    "\n",
    "fig = plt.figure()\n",
    "ax=isnt.plot(kind='bar', stacked=True,\n",
    "              color=ucols)\n",
    "ax.legend(labels=['IVF', 'NT'],bbox_to_anchor=(1,1),frameon=False)\n",
    "ax.set_xlabel('Clusters')\n",
    "ax.set_ylabel('Normalized percentage')\n",
    "ax.set_title('Cluster composition by condition')\n",
    "# plt.savefig('bar_clus_cond.pdf',bbox_inches='tight')"
   ]
  },
  {
   "cell_type": "code",
   "execution_count": 11,
   "metadata": {
    "kernel": "R"
   },
   "outputs": [],
   "source": [
    "#Get Seurat colors of the conditions\n",
    "p <- Seurat::DimPlot(xenopus.combined, reduction = \"umap\", \n",
    "                     group.by = \"stim\")\n",
    " # Generate the tSNE plot, but save it as an object\n",
    "pbuild <- ggplot2::ggplot_build(p) # Use ggplot_build to deconstruct the ggplot object\n",
    "pdata <- pbuild$data[[1]] # Pull the data used for the plot\n",
    "pdata <-  pdata[order(pdata$group), ] # Order the plot data by group\n",
    "ucols <- unique(pdata$colour) # Get a vector of unique colors\n",
    "names(ucols) <- unique(pdata$group) # Add the groups to the vector of colors as names"
   ]
  },
  {
   "cell_type": "code",
   "execution_count": 12,
   "metadata": {
    "kernel": "SoS"
   },
   "outputs": [],
   "source": [
    "batch=batch[['SIGAA2','SIGAH5','SIGAB2','SIGAH12']]\n",
    "batch=batch.div(batch.sum(axis=0))\n",
    "batch=100*batch.div(batch.sum(axis=1),axis=0)"
   ]
  },
  {
   "cell_type": "code",
   "execution_count": 13,
   "metadata": {
    "kernel": "SoS"
   },
   "outputs": [
    {
     "data": {
      "text/plain": [
       "Text(0.5, 1.0, 'Cluster composition by batch')"
      ]
     },
     "execution_count": 13,
     "metadata": {},
     "output_type": "execute_result"
    },
    {
     "data": {
      "text/plain": [
       "<Figure size 432x288 with 0 Axes>"
      ]
     },
     "metadata": {},
     "output_type": "display_data"
    },
    {
     "data": {
      "image/png": "[encoded data removed]",
      "text/plain": [
       "<Figure size 432x288 with 1 Axes>"
      ]
     },
     "metadata": {
      "needs_background": "light"
     },
     "output_type": "display_data"
    }
   ],
   "source": [
    "%get ucols --from R\n",
    "\n",
    "fig = plt.figure()\n",
    "ax=batch.plot(kind='bar', stacked=True,\n",
    "              color=[ucols[0],ucols[3],ucols[1],ucols[2]])\n",
    "ax.legend(labels=['SIGAA2 (IVF)', 'SIGAH5 (IVF)','SIGAB2 (NT)','SIGAH12 (NT)'],\n",
    "          bbox_to_anchor=(1,1),frameon=False)\n",
    "ax.set_xlabel('Clusters')\n",
    "ax.set_ylabel('Normalized percentage')\n",
    "ax.set_title('Cluster composition by batch')\n",
    "# plt.savefig('bar_clus_batch.pdf',bbox_inches='tight')"
   ]
  },
  {
   "cell_type": "code",
   "execution_count": 14,
   "metadata": {
    "kernel": "SoS"
   },
   "outputs": [
    {
     "data": {
      "text/html": [
       "<div>\n",
       "<style scoped>\n",
       "    .dataframe tbody tr th:only-of-type {\n",
       "        vertical-align: middle;\n",
       "    }\n",
       "\n",
       "    .dataframe tbody tr th {\n",
       "        vertical-align: top;\n",
       "    }\n",
       "\n",
       "    .dataframe thead th {\n",
       "        text-align: right;\n",
       "    }\n",
       "</style>\n",
       "<table border=\"1\" class=\"dataframe\">\n",
       "  <thead>\n",
       "    <tr style=\"text-align: right;\">\n",
       "      <th></th>\n",
       "      <th>IVF</th>\n",
       "      <th>NT</th>\n",
       "    </tr>\n",
       "  </thead>\n",
       "  <tbody>\n",
       "    <tr>\n",
       "      <th>0</th>\n",
       "      <td>43.603771</td>\n",
       "      <td>56.396229</td>\n",
       "    </tr>\n",
       "    <tr>\n",
       "      <th>1</th>\n",
       "      <td>55.230024</td>\n",
       "      <td>44.769976</td>\n",
       "    </tr>\n",
       "    <tr>\n",
       "      <th>2</th>\n",
       "      <td>46.443102</td>\n",
       "      <td>53.556898</td>\n",
       "    </tr>\n",
       "    <tr>\n",
       "      <th>3</th>\n",
       "      <td>66.307453</td>\n",
       "      <td>33.692547</td>\n",
       "    </tr>\n",
       "    <tr>\n",
       "      <th>4</th>\n",
       "      <td>35.455216</td>\n",
       "      <td>64.544784</td>\n",
       "    </tr>\n",
       "    <tr>\n",
       "      <th>5</th>\n",
       "      <td>49.808953</td>\n",
       "      <td>50.191047</td>\n",
       "    </tr>\n",
       "    <tr>\n",
       "      <th>6</th>\n",
       "      <td>39.991044</td>\n",
       "      <td>60.008956</td>\n",
       "    </tr>\n",
       "    <tr>\n",
       "      <th>7</th>\n",
       "      <td>66.830981</td>\n",
       "      <td>33.169019</td>\n",
       "    </tr>\n",
       "    <tr>\n",
       "      <th>8</th>\n",
       "      <td>75.030490</td>\n",
       "      <td>24.969510</td>\n",
       "    </tr>\n",
       "    <tr>\n",
       "      <th>9</th>\n",
       "      <td>20.223451</td>\n",
       "      <td>79.776549</td>\n",
       "    </tr>\n",
       "  </tbody>\n",
       "</table>\n",
       "</div>"
      ],
      "text/plain": [
       "         IVF         NT\n",
       "0  43.603771  56.396229\n",
       "1  55.230024  44.769976\n",
       "2  46.443102  53.556898\n",
       "3  66.307453  33.692547\n",
       "4  35.455216  64.544784\n",
       "5  49.808953  50.191047\n",
       "6  39.991044  60.008956\n",
       "7  66.830981  33.169019\n",
       "8  75.030490  24.969510\n",
       "9  20.223451  79.776549"
      ]
     },
     "execution_count": 14,
     "metadata": {},
     "output_type": "execute_result"
    }
   ],
   "source": [
    "isnt"
   ]
  },
  {
   "cell_type": "code",
   "execution_count": 15,
   "metadata": {
    "kernel": "SoS"
   },
   "outputs": [
    {
     "data": {
      "text/html": [
       "<div>\n",
       "<style scoped>\n",
       "    .dataframe tbody tr th:only-of-type {\n",
       "        vertical-align: middle;\n",
       "    }\n",
       "\n",
       "    .dataframe tbody tr th {\n",
       "        vertical-align: top;\n",
       "    }\n",
       "\n",
       "    .dataframe thead th {\n",
       "        text-align: right;\n",
       "    }\n",
       "</style>\n",
       "<table border=\"1\" class=\"dataframe\">\n",
       "  <thead>\n",
       "    <tr style=\"text-align: right;\">\n",
       "      <th></th>\n",
       "      <th>SIGAA2</th>\n",
       "      <th>SIGAH5</th>\n",
       "      <th>SIGAB2</th>\n",
       "      <th>SIGAH12</th>\n",
       "    </tr>\n",
       "  </thead>\n",
       "  <tbody>\n",
       "    <tr>\n",
       "      <th>0</th>\n",
       "      <td>23.494888</td>\n",
       "      <td>19.804839</td>\n",
       "      <td>31.925418</td>\n",
       "      <td>24.774855</td>\n",
       "    </tr>\n",
       "    <tr>\n",
       "      <th>1</th>\n",
       "      <td>37.447685</td>\n",
       "      <td>21.106520</td>\n",
       "      <td>19.484124</td>\n",
       "      <td>21.961672</td>\n",
       "    </tr>\n",
       "    <tr>\n",
       "      <th>2</th>\n",
       "      <td>33.455698</td>\n",
       "      <td>15.484204</td>\n",
       "      <td>29.261974</td>\n",
       "      <td>21.798123</td>\n",
       "    </tr>\n",
       "    <tr>\n",
       "      <th>3</th>\n",
       "      <td>16.777264</td>\n",
       "      <td>43.989763</td>\n",
       "      <td>23.818389</td>\n",
       "      <td>15.414585</td>\n",
       "    </tr>\n",
       "    <tr>\n",
       "      <th>4</th>\n",
       "      <td>16.672605</td>\n",
       "      <td>21.250517</td>\n",
       "      <td>16.736227</td>\n",
       "      <td>45.340652</td>\n",
       "    </tr>\n",
       "    <tr>\n",
       "      <th>5</th>\n",
       "      <td>16.831215</td>\n",
       "      <td>29.394293</td>\n",
       "      <td>30.095006</td>\n",
       "      <td>23.679486</td>\n",
       "    </tr>\n",
       "    <tr>\n",
       "      <th>6</th>\n",
       "      <td>17.875063</td>\n",
       "      <td>20.504827</td>\n",
       "      <td>34.316509</td>\n",
       "      <td>27.303601</td>\n",
       "    </tr>\n",
       "    <tr>\n",
       "      <th>7</th>\n",
       "      <td>8.410089</td>\n",
       "      <td>52.875035</td>\n",
       "      <td>18.994909</td>\n",
       "      <td>19.719966</td>\n",
       "    </tr>\n",
       "    <tr>\n",
       "      <th>8</th>\n",
       "      <td>25.989678</td>\n",
       "      <td>49.077209</td>\n",
       "      <td>8.217989</td>\n",
       "      <td>16.715125</td>\n",
       "    </tr>\n",
       "    <tr>\n",
       "      <th>9</th>\n",
       "      <td>4.925962</td>\n",
       "      <td>14.669997</td>\n",
       "      <td>23.642130</td>\n",
       "      <td>56.761912</td>\n",
       "    </tr>\n",
       "  </tbody>\n",
       "</table>\n",
       "</div>"
      ],
      "text/plain": [
       "      SIGAA2     SIGAH5     SIGAB2    SIGAH12\n",
       "0  23.494888  19.804839  31.925418  24.774855\n",
       "1  37.447685  21.106520  19.484124  21.961672\n",
       "2  33.455698  15.484204  29.261974  21.798123\n",
       "3  16.777264  43.989763  23.818389  15.414585\n",
       "4  16.672605  21.250517  16.736227  45.340652\n",
       "5  16.831215  29.394293  30.095006  23.679486\n",
       "6  17.875063  20.504827  34.316509  27.303601\n",
       "7   8.410089  52.875035  18.994909  19.719966\n",
       "8  25.989678  49.077209   8.217989  16.715125\n",
       "9   4.925962  14.669997  23.642130  56.761912"
      ]
     },
     "execution_count": 15,
     "metadata": {},
     "output_type": "execute_result"
    }
   ],
   "source": [
    "batch"
   ]
  },
  {
   "cell_type": "code",
   "execution_count": 16,
   "metadata": {
    "kernel": "R"
   },
   "outputs": [],
   "source": [
    "#Get Seurat colors of the conditions\n",
    "p <- Seurat::DimPlot(xenopus.combined, reduction = \"umap\", \n",
    "                     group.by = \"isnt\")\n",
    " # Generate the tSNE plot, but save it as an object\n",
    "pbuild <- ggplot2::ggplot_build(p) # Use ggplot_build to deconstruct the ggplot object\n",
    "pdata <- pbuild$data[[1]] # Pull the data used for the plot\n",
    "pdata <-  pdata[order(pdata$group), ] # Order the plot data by group\n",
    "ucols <- unique(pdata$colour) # Get a vector of unique colors\n",
    "names(ucols) <- unique(pdata$group) # Add the groups to the vector of colors as names"
   ]
  },
  {
   "cell_type": "markdown",
   "metadata": {
    "kernel": "R"
   },
   "source": [
    "# Cell type composition analysis using glm"
   ]
  },
  {
   "cell_type": "markdown",
   "metadata": {
    "kernel": "R"
   },
   "source": [
    "We follow the procedure described in the methods section in [Haber et al, 2017](https://www.nature.com/articles/nature24489), to assess significant changes in cell type proportions between IVF and NT samples.\n",
    "\n",
    "The procedure is the following:\n",
    "\n",
    "1. We model the detected number of each cell type in each condition (IVF/NT) as a Poisson random count variable\n",
    "\n",
    "2. The rate of detection is modelled providing the total number of cells in a given condition as an offset variable, with the condition (IVF/NT) provided as a covariate.\n",
    "\n",
    "3. We fit the model using glm from stats.\n",
    "\n",
    "4. The p-value for the significance of the effect of cell type composition change between IVF and NT is obtained through a Wald test on the regression coefficient"
   ]
  },
  {
   "cell_type": "code",
   "execution_count": 14,
   "metadata": {
    "kernel": "R"
   },
   "outputs": [
    {
     "name": "stderr",
     "output_type": "stream",
     "text": [
      "Loading required package: MASS\n",
      "\n"
     ]
    }
   ],
   "source": [
    "library(Seurat)\n",
    "library(ggplot2)\n",
    "library(cowplot)\n",
    "library(mdscore)\n",
    "#Load the data\n",
    "xenopus.combined <- readRDS(file = \"xenopus_combined_and_clustered_no_out.rds\")"
   ]
  },
  {
   "cell_type": "code",
   "execution_count": 15,
   "metadata": {
    "kernel": "R"
   },
   "outputs": [],
   "source": [
    "# Define a dataframe with the number of cells for each batch\n",
    "stim.df <- as.data.frame.matrix(table(Idents(xenopus.combined), xenopus.combined$stim))\n",
    "\n",
    "# cond represents the condition of each batch\n",
    "cond <- c('IVF','NT','NT','IVF')\n",
    "\n",
    "# subj represents each batch\n",
    "subj <- c('SIGAA2','SIGAB2','SIGAH12','SIGAH5')\n",
    "\n",
    "# Total numebr of cells in each batch\n",
    "sums <- c(sum(stim.df$SIGAA2),sum(stim.df$SIGAB2),sum(stim.df$SIGAH12),sum(stim.df$SIGAH5))\n",
    "\n",
    "# Define a glm that will be fitted for each cell type: the condition is the covariate\n",
    "# the total number of cells in each batch is the offset\n",
    "# Perform a Wald test on the regression coefficient\n",
    "My.glm <- function(x){\n",
    "    data <- data.frame(\"cond\" = cond, \"cellCount\" = x,\n",
    "                \"subject\"=subj, \"total\" = sums, stringsAsFactors = FALSE)\n",
    "    model <- glm(formula = cellCount ~ cond,\n",
    "             family = poisson, data = data,\n",
    "             offset = log(total))\n",
    "    wald.test(model,term=2)$pvalue\n",
    "}\n",
    "\n",
    "# Apply the glm to each cell type (row of the dataframe stim.df)\n",
    "pvals <-apply(stim.df, 1, My.glm)\n",
    "\n",
    "# Adjust the p-values with fdr correction\n",
    "pvals.adj <- p.adjust(pvals,method='fdr')"
   ]
  },
  {
   "cell_type": "code",
   "execution_count": 16,
   "metadata": {
    "kernel": "R"
   },
   "outputs": [],
   "source": [
    "df <- data.frame('celltype'=c(0,1,2,3,4,5,6,7,8,9),'pvals.adj'= pvals.adj)"
   ]
  },
  {
   "cell_type": "code",
   "execution_count": 17,
   "metadata": {
    "kernel": "R"
   },
   "outputs": [
    {
     "data": {
      "text/html": [
       "<table>\n",
       "<caption>A data.frame: 10 × 2</caption>\n",
       "<thead>\n",
       "\t<tr><th></th><th scope=col>celltype</th><th scope=col>pvals.adj</th></tr>\n",
       "\t<tr><th></th><th scope=col>&lt;dbl&gt;</th><th scope=col>&lt;dbl&gt;</th></tr>\n",
       "</thead>\n",
       "<tbody>\n",
       "\t<tr><th scope=row>9</th><td>9</td><td>2.095263e-10</td></tr>\n",
       "\t<tr><th scope=row>8</th><td>8</td><td>1.662555e-08</td></tr>\n",
       "\t<tr><th scope=row>3</th><td>3</td><td>2.523213e-08</td></tr>\n",
       "\t<tr><th scope=row>4</th><td>4</td><td>4.471847e-06</td></tr>\n",
       "\t<tr><th scope=row>7</th><td>7</td><td>5.308253e-05</td></tr>\n",
       "\t<tr><th scope=row>0</th><td>0</td><td>7.336451e-04</td></tr>\n",
       "\t<tr><th scope=row>1</th><td>1</td><td>7.541938e-03</td></tr>\n",
       "\t<tr><th scope=row>6</th><td>6</td><td>1.260127e-02</td></tr>\n",
       "\t<tr><th scope=row>2</th><td>2</td><td>1.645685e-01</td></tr>\n",
       "\t<tr><th scope=row>5</th><td>5</td><td>9.549562e-01</td></tr>\n",
       "</tbody>\n",
       "</table>\n"
      ],
      "text/latex": [
       "A data.frame: 10 × 2\n",
       "\\begin{tabular}{r|ll}\n",
       "  & celltype & pvals.adj\\\\\n",
       "  & <dbl> & <dbl>\\\\\n",
       "\\hline\n",
       "\t9 & 9 & 2.095263e-10\\\\\n",
       "\t8 & 8 & 1.662555e-08\\\\\n",
       "\t3 & 3 & 2.523213e-08\\\\\n",
       "\t4 & 4 & 4.471847e-06\\\\\n",
       "\t7 & 7 & 5.308253e-05\\\\\n",
       "\t0 & 0 & 7.336451e-04\\\\\n",
       "\t1 & 1 & 7.541938e-03\\\\\n",
       "\t6 & 6 & 1.260127e-02\\\\\n",
       "\t2 & 2 & 1.645685e-01\\\\\n",
       "\t5 & 5 & 9.549562e-01\\\\\n",
       "\\end{tabular}\n"
      ],
      "text/markdown": [
       "\n",
       "A data.frame: 10 × 2\n",
       "\n",
       "| <!--/--> | celltype &lt;dbl&gt; | pvals.adj &lt;dbl&gt; |\n",
       "|---|---|---|\n",
       "| 9 | 9 | 2.095263e-10 |\n",
       "| 8 | 8 | 1.662555e-08 |\n",
       "| 3 | 3 | 2.523213e-08 |\n",
       "| 4 | 4 | 4.471847e-06 |\n",
       "| 7 | 7 | 5.308253e-05 |\n",
       "| 0 | 0 | 7.336451e-04 |\n",
       "| 1 | 1 | 7.541938e-03 |\n",
       "| 6 | 6 | 1.260127e-02 |\n",
       "| 2 | 2 | 1.645685e-01 |\n",
       "| 5 | 5 | 9.549562e-01 |\n",
       "\n"
      ],
      "text/plain": [
       "  celltype pvals.adj   \n",
       "9 9        2.095263e-10\n",
       "8 8        1.662555e-08\n",
       "3 3        2.523213e-08\n",
       "4 4        4.471847e-06\n",
       "7 7        5.308253e-05\n",
       "0 0        7.336451e-04\n",
       "1 1        7.541938e-03\n",
       "6 6        1.260127e-02\n",
       "2 2        1.645685e-01\n",
       "5 5        9.549562e-01"
      ]
     },
     "metadata": {},
     "output_type": "display_data"
    }
   ],
   "source": [
    "# p-value for each cluster ordered in increasing order\n",
    "df[order(df$pvals.adj),]"
   ]
  },
  {
   "cell_type": "code",
   "execution_count": 18,
   "metadata": {
    "kernel": "R"
   },
   "outputs": [],
   "source": [
    "df_2 <- df[order(df$pvals.adj),]"
   ]
  },
  {
   "cell_type": "code",
   "execution_count": 19,
   "metadata": {
    "kernel": "R"
   },
   "outputs": [],
   "source": [
    "df_2$cell_type <- c('Mixed characteristics','Basal stem cells II','Basal stem cells I',\n",
    "                   'Cement gland primordium','Ciliated epidermal progenitors',\n",
    "                   'Non-neural ectoderm','Goblet cells I','Chordal neural plate',\n",
    "                   'Goblet cells II','Eye primordium/anterior neural plate')"
   ]
  },
  {
   "cell_type": "code",
   "execution_count": 20,
   "metadata": {
    "kernel": "R"
   },
   "outputs": [
    {
     "data": {
      "text/html": [
       "<table>\n",
       "<caption>A data.frame: 10 × 2</caption>\n",
       "<thead>\n",
       "\t<tr><th></th><th scope=col>Cell type</th><th scope=col>FDR</th></tr>\n",
       "\t<tr><th></th><th scope=col>&lt;chr&gt;</th><th scope=col>&lt;dbl&gt;</th></tr>\n",
       "</thead>\n",
       "<tbody>\n",
       "\t<tr><th scope=row>9</th><td>Mixed characteristics               </td><td>2.095263e-10</td></tr>\n",
       "\t<tr><th scope=row>8</th><td>Basal stem cells II                 </td><td>1.662555e-08</td></tr>\n",
       "\t<tr><th scope=row>3</th><td>Basal stem cells I                  </td><td>2.523213e-08</td></tr>\n",
       "\t<tr><th scope=row>4</th><td>Cement gland primordium             </td><td>4.471847e-06</td></tr>\n",
       "\t<tr><th scope=row>7</th><td>Ciliated epidermal progenitors      </td><td>5.308253e-05</td></tr>\n",
       "\t<tr><th scope=row>0</th><td>Non-neural ectoderm                 </td><td>7.336451e-04</td></tr>\n",
       "\t<tr><th scope=row>1</th><td>Goblet cells I                      </td><td>7.541938e-03</td></tr>\n",
       "\t<tr><th scope=row>6</th><td>Chordal neural plate                </td><td>1.260127e-02</td></tr>\n",
       "\t<tr><th scope=row>2</th><td>Goblet cells II                     </td><td>1.645685e-01</td></tr>\n",
       "\t<tr><th scope=row>5</th><td>Eye primordium/anterior neural plate</td><td>9.549562e-01</td></tr>\n",
       "</tbody>\n",
       "</table>\n"
      ],
      "text/latex": [
       "A data.frame: 10 × 2\n",
       "\\begin{tabular}{r|ll}\n",
       "  & Cell type & FDR\\\\\n",
       "  & <chr> & <dbl>\\\\\n",
       "\\hline\n",
       "\t9 & Mixed characteristics                & 2.095263e-10\\\\\n",
       "\t8 & Basal stem cells II                  & 1.662555e-08\\\\\n",
       "\t3 & Basal stem cells I                   & 2.523213e-08\\\\\n",
       "\t4 & Cement gland primordium              & 4.471847e-06\\\\\n",
       "\t7 & Ciliated epidermal progenitors       & 5.308253e-05\\\\\n",
       "\t0 & Non-neural ectoderm                  & 7.336451e-04\\\\\n",
       "\t1 & Goblet cells I                       & 7.541938e-03\\\\\n",
       "\t6 & Chordal neural plate                 & 1.260127e-02\\\\\n",
       "\t2 & Goblet cells II                      & 1.645685e-01\\\\\n",
       "\t5 & Eye primordium/anterior neural plate & 9.549562e-01\\\\\n",
       "\\end{tabular}\n"
      ],
      "text/markdown": [
       "\n",
       "A data.frame: 10 × 2\n",
       "\n",
       "| <!--/--> | Cell type &lt;chr&gt; | FDR &lt;dbl&gt; |\n",
       "|---|---|---|\n",
       "| 9 | Mixed characteristics                | 2.095263e-10 |\n",
       "| 8 | Basal stem cells II                  | 1.662555e-08 |\n",
       "| 3 | Basal stem cells I                   | 2.523213e-08 |\n",
       "| 4 | Cement gland primordium              | 4.471847e-06 |\n",
       "| 7 | Ciliated epidermal progenitors       | 5.308253e-05 |\n",
       "| 0 | Non-neural ectoderm                  | 7.336451e-04 |\n",
       "| 1 | Goblet cells I                       | 7.541938e-03 |\n",
       "| 6 | Chordal neural plate                 | 1.260127e-02 |\n",
       "| 2 | Goblet cells II                      | 1.645685e-01 |\n",
       "| 5 | Eye primordium/anterior neural plate | 9.549562e-01 |\n",
       "\n"
      ],
      "text/plain": [
       "  Cell type                            FDR         \n",
       "9 Mixed characteristics                2.095263e-10\n",
       "8 Basal stem cells II                  1.662555e-08\n",
       "3 Basal stem cells I                   2.523213e-08\n",
       "4 Cement gland primordium              4.471847e-06\n",
       "7 Ciliated epidermal progenitors       5.308253e-05\n",
       "0 Non-neural ectoderm                  7.336451e-04\n",
       "1 Goblet cells I                       7.541938e-03\n",
       "6 Chordal neural plate                 1.260127e-02\n",
       "2 Goblet cells II                      1.645685e-01\n",
       "5 Eye primordium/anterior neural plate 9.549562e-01"
      ]
     },
     "metadata": {},
     "output_type": "display_data"
    }
   ],
   "source": [
    "df_2 <- df_2[,c('cell_type','pvals.adj')]\n",
    "colnames(df_2) <- c('Cell type','FDR')\n",
    "df_2"
   ]
  },
  {
   "cell_type": "code",
   "execution_count": 21,
   "metadata": {
    "kernel": "R"
   },
   "outputs": [],
   "source": [
    "# Define the data for the representation of the results\n",
    "\n",
    "# From the complete metadata keep only infos about batch, condition and cell type for each cell\n",
    "meta.data <- xenopus.combined[[]]\n",
    "meta.data <- meta.data[,c(\"stim\",\"isnt\",\"seurat_clusters\")]\n",
    "\n",
    "# Aggregate the data for each cell type, keeping the separation between batches\n",
    "my.data <- aggregate(meta.data$seurat_clusters, by=list(meta.data$stim,meta.data$isnt,\n",
    "                                            meta.data$seurat_clusters), FUN=length)\n",
    "\n",
    "colnames(my.data) <- c('batch','condition','cell_type','cell_count')\n",
    "\n",
    "# Rescale the data for each batch to obtain the frequency of each cell type in each batch\n",
    "my.data[my.data$batch=='SIGAA2',]$cell_count <- my.data[my.data$batch=='SIGAA2',]$cell_count/sum(my.data[my.data$batch=='SIGAA2',]$cell_count) \n",
    "my.data[my.data$batch=='SIGAB2',]$cell_count <- my.data[my.data$batch=='SIGAB2',]$cell_count/sum(my.data[my.data$batch=='SIGAB2',]$cell_count) \n",
    "my.data[my.data$batch=='SIGAH5',]$cell_count <- my.data[my.data$batch=='SIGAH5',]$cell_count/sum(my.data[my.data$batch=='SIGAH5',]$cell_count) \n",
    "my.data[my.data$batch=='SIGAH12',]$cell_count <- my.data[my.data$batch=='SIGAH12',]$cell_count/sum(my.data[my.data$batch=='SIGAH12',]$cell_count) "
   ]
  },
  {
   "cell_type": "code",
   "execution_count": 22,
   "metadata": {
    "kernel": "R"
   },
   "outputs": [
    {
     "name": "stderr",
     "output_type": "stream",
     "text": [
      "Loading required package: plotrix\n",
      "\n",
      "Loading required package: ggsignif\n",
      "\n"
     ]
    },
    {
     "data": {
      "image/png": "[encoded data removed]",
      "text/plain": [
       "plot without title"
      ]
     },
     "metadata": {
      "image/png": {
       "height": 210,
       "width": 600
      }
     },
     "output_type": "display_data"
    }
   ],
   "source": [
    "require(plotrix)\n",
    "require(ggsignif)\n",
    "# Bar plot of the fraction of cells in each batch (black dots)\n",
    "# Each bar represents the mean fraction of cells in a given type for the batches of one condition\n",
    "# The error bar is given by the s.e.m.\n",
    "# The significance of the adjusted p-value is marked as * is FDR < 10^{-5}, ** if <10^{-9}\n",
    "agg=aggregate(cell_count~cell_type*condition, data=my.data, FUN=\"mean\") #mean\n",
    "agg$sem=aggregate(cell_count~cell_type*condition, data=my.data, FUN=\"std.error\")$cell_count #add the SD \n",
    "\n",
    "\n",
    "dodge <- position_dodge(width=0.9) \n",
    "limits <- aes(ymax=cell_count+sem, ymin=cell_count-sem) #Set up the error bars\n",
    "\n",
    "options(repr.plot.width=10,repr.plot.height=3.5)\n",
    "\n",
    "p <- ggplot(agg, aes(fill=condition, y=cell_count, x=cell_type)) \n",
    "\n",
    "p+geom_bar(position=dodge, stat=\"identity\") + theme(\n",
    "            legend.title=element_text(size=14), \n",
    "            legend.text=element_text(size=14),\n",
    "            axis.text.x = element_text(color=\"black\", \n",
    "                           size=14),\n",
    "            axis.text.y = element_text(color=\"black\", \n",
    "                           size=14),\n",
    "            panel.grid.major = element_blank(), \n",
    "            panel.grid.minor = element_blank(),\n",
    "            panel.background = element_blank(), axis.line = element_line(colour = \"black\"),\n",
    "            plot.title = element_text(color=\"black\", size=14, face=\"bold\",hjust = 0.5),\n",
    "            axis.title.x = element_text(color=\"black\", size=14, face=\"bold\"),\n",
    "            axis.title.y = element_text(color=\"black\", size=14, face=\"bold\")\n",
    ") + labs(title=\"Cell type composition analysis\",\n",
    "        x =\"\", y = \"Fraction of cells\") +\n",
    "      geom_errorbar(limits, position=dodge, width=0.25)+\n",
    "#       geom_point(data=my.data,aes(cell_type,cell_count,color=condition),\n",
    "#                  position=dodge)+\n",
    "       geom_jitter(data=my.data,aes(cell_type,cell_count,color=condition),\n",
    "                  position = position_jitterdodge(jitter.width = 0.2, dodge.width = 0.9)) +\n",
    "      scale_color_manual(values=c(\"black\",\"black\")) + geom_signif(y_position=c(0.195, 0.16,0.1,0.1), \n",
    "                xmin=c(3.7, 4.7,8.7,9.7), xmax=c(4.3, 5.3, 9.3, 10.3),\n",
    "              annotation=c(\"*\", \"*\", \"*\", \"**\"), tip_length=0.01, fontface=\"bold\")"
   ]
  },
  {
   "cell_type": "markdown",
   "metadata": {
    "kernel": "R"
   },
   "source": [
    "Second plot: Plot the ratio of relative cell abundance (NT/IVF) for each cell type. Order clusters by layer. "
   ]
  },
  {
   "cell_type": "code",
   "execution_count": 23,
   "metadata": {
    "kernel": "R"
   },
   "outputs": [],
   "source": [
    "agg.IVF <- agg[agg$condition=='IVF',]\n",
    "agg.NT <- agg[agg$condition=='NT',]"
   ]
  },
  {
   "cell_type": "code",
   "execution_count": 30,
   "metadata": {
    "kernel": "R"
   },
   "outputs": [
    {
     "data": {
      "text/html": [
       "<table>\n",
       "<caption>A data.frame: 10 × 4</caption>\n",
       "<thead>\n",
       "\t<tr><th></th><th scope=col>cell_type</th><th scope=col>condition</th><th scope=col>cell_count</th><th scope=col>sem</th></tr>\n",
       "\t<tr><th></th><th scope=col>&lt;fct&gt;</th><th scope=col>&lt;chr&gt;</th><th scope=col>&lt;dbl&gt;</th><th scope=col>&lt;dbl&gt;</th></tr>\n",
       "</thead>\n",
       "<tbody>\n",
       "\t<tr><th scope=row>1</th><td>0</td><td>IVF</td><td>0.20275664</td><td>0.017279136</td></tr>\n",
       "\t<tr><th scope=row>2</th><td>1</td><td>IVF</td><td>0.26713124</td><td>0.074550337</td></tr>\n",
       "\t<tr><th scope=row>3</th><td>2</td><td>IVF</td><td>0.13346008</td><td>0.049008617</td></tr>\n",
       "\t<tr><th scope=row>4</th><td>3</td><td>IVF</td><td>0.11338957</td><td>0.050777759</td></tr>\n",
       "\t<tr><th scope=row>5</th><td>4</td><td>IVF</td><td>0.05493164</td><td>0.006631105</td></tr>\n",
       "\t<tr><th scope=row>6</th><td>5</td><td>IVF</td><td>0.05895704</td><td>0.016023229</td></tr>\n",
       "\t<tr><th scope=row>7</th><td>6</td><td>IVF</td><td>0.03841000</td><td>0.002631828</td></tr>\n",
       "\t<tr><th scope=row>8</th><td>7</td><td>IVF</td><td>0.05214380</td><td>0.037832526</td></tr>\n",
       "\t<tr><th scope=row>9</th><td>8</td><td>IVF</td><td>0.06458709</td><td>0.019864371</td></tr>\n",
       "\t<tr><th scope=row>10</th><td>9</td><td>IVF</td><td>0.01423291</td><td>0.007077273</td></tr>\n",
       "</tbody>\n",
       "</table>\n"
      ],
      "text/latex": [
       "A data.frame: 10 × 4\n",
       "\\begin{tabular}{r|llll}\n",
       "  & cell\\_type & condition & cell\\_count & sem\\\\\n",
       "  & <fct> & <chr> & <dbl> & <dbl>\\\\\n",
       "\\hline\n",
       "\t1 & 0 & IVF & 0.20275664 & 0.017279136\\\\\n",
       "\t2 & 1 & IVF & 0.26713124 & 0.074550337\\\\\n",
       "\t3 & 2 & IVF & 0.13346008 & 0.049008617\\\\\n",
       "\t4 & 3 & IVF & 0.11338957 & 0.050777759\\\\\n",
       "\t5 & 4 & IVF & 0.05493164 & 0.006631105\\\\\n",
       "\t6 & 5 & IVF & 0.05895704 & 0.016023229\\\\\n",
       "\t7 & 6 & IVF & 0.03841000 & 0.002631828\\\\\n",
       "\t8 & 7 & IVF & 0.05214380 & 0.037832526\\\\\n",
       "\t9 & 8 & IVF & 0.06458709 & 0.019864371\\\\\n",
       "\t10 & 9 & IVF & 0.01423291 & 0.007077273\\\\\n",
       "\\end{tabular}\n"
      ],
      "text/markdown": [
       "\n",
       "A data.frame: 10 × 4\n",
       "\n",
       "| <!--/--> | cell_type &lt;fct&gt; | condition &lt;chr&gt; | cell_count &lt;dbl&gt; | sem &lt;dbl&gt; |\n",
       "|---|---|---|---|---|\n",
       "| 1 | 0 | IVF | 0.20275664 | 0.017279136 |\n",
       "| 2 | 1 | IVF | 0.26713124 | 0.074550337 |\n",
       "| 3 | 2 | IVF | 0.13346008 | 0.049008617 |\n",
       "| 4 | 3 | IVF | 0.11338957 | 0.050777759 |\n",
       "| 5 | 4 | IVF | 0.05493164 | 0.006631105 |\n",
       "| 6 | 5 | IVF | 0.05895704 | 0.016023229 |\n",
       "| 7 | 6 | IVF | 0.03841000 | 0.002631828 |\n",
       "| 8 | 7 | IVF | 0.05214380 | 0.037832526 |\n",
       "| 9 | 8 | IVF | 0.06458709 | 0.019864371 |\n",
       "| 10 | 9 | IVF | 0.01423291 | 0.007077273 |\n",
       "\n"
      ],
      "text/plain": [
       "   cell_type condition cell_count sem        \n",
       "1  0         IVF       0.20275664 0.017279136\n",
       "2  1         IVF       0.26713124 0.074550337\n",
       "3  2         IVF       0.13346008 0.049008617\n",
       "4  3         IVF       0.11338957 0.050777759\n",
       "5  4         IVF       0.05493164 0.006631105\n",
       "6  5         IVF       0.05895704 0.016023229\n",
       "7  6         IVF       0.03841000 0.002631828\n",
       "8  7         IVF       0.05214380 0.037832526\n",
       "9  8         IVF       0.06458709 0.019864371\n",
       "10 9         IVF       0.01423291 0.007077273"
      ]
     },
     "metadata": {},
     "output_type": "display_data"
    }
   ],
   "source": [
    "agg.IVF"
   ]
  },
  {
   "cell_type": "code",
   "execution_count": 24,
   "metadata": {
    "kernel": "R"
   },
   "outputs": [
    {
     "name": "stderr",
     "output_type": "stream",
     "text": [
      "Loading required package: scales\n",
      "\n",
      "\n",
      "Attaching package: ‘scales’\n",
      "\n",
      "\n",
      "The following object is masked from ‘package:plotrix’:\n",
      "\n",
      "    rescale\n",
      "\n",
      "\n"
     ]
    },
    {
     "data": {
      "text/html": [
       "<style>\n",
       ".list-inline {list-style: none; margin:0; padding: 0}\n",
       ".list-inline>li {display: inline-block}\n",
       ".list-inline>li:not(:last-child)::after {content: \"\\00b7\"; padding: 0 .5ex}\n",
       "</style>\n",
       "<ol class=list-inline><li>'#F8766D'</li><li>'#DB8E00'</li><li>'#AEA200'</li><li>'#64B200'</li><li>'#00BD5C'</li><li>'#00C1A7'</li><li>'#00BADE'</li><li>'#00A6FF'</li><li>'#B385FF'</li><li>'#EF67EB'</li></ol>\n"
      ],
      "text/latex": [
       "\\begin{enumerate*}\n",
       "\\item '\\#F8766D'\n",
       "\\item '\\#DB8E00'\n",
       "\\item '\\#AEA200'\n",
       "\\item '\\#64B200'\n",
       "\\item '\\#00BD5C'\n",
       "\\item '\\#00C1A7'\n",
       "\\item '\\#00BADE'\n",
       "\\item '\\#00A6FF'\n",
       "\\item '\\#B385FF'\n",
       "\\item '\\#EF67EB'\n",
       "\\end{enumerate*}\n"
      ],
      "text/markdown": [
       "1. '#F8766D'\n",
       "2. '#DB8E00'\n",
       "3. '#AEA200'\n",
       "4. '#64B200'\n",
       "5. '#00BD5C'\n",
       "6. '#00C1A7'\n",
       "7. '#00BADE'\n",
       "8. '#00A6FF'\n",
       "9. '#B385FF'\n",
       "10. '#EF67EB'\n",
       "\n",
       "\n"
      ],
      "text/plain": [
       " [1] \"#F8766D\" \"#DB8E00\" \"#AEA200\" \"#64B200\" \"#00BD5C\" \"#00C1A7\" \"#00BADE\"\n",
       " [8] \"#00A6FF\" \"#B385FF\" \"#EF67EB\""
      ]
     },
     "metadata": {},
     "output_type": "display_data"
    }
   ],
   "source": [
    "require(scales)\n",
    "\n",
    "# Create vector of default ggplot2 colors\n",
    "my_color_palette <- hue_pal()(length(rownames(agg.IVF))+1)[1:10]\n",
    "my_color_palette"
   ]
  },
  {
   "cell_type": "code",
   "execution_count": 25,
   "metadata": {
    "kernel": "R"
   },
   "outputs": [],
   "source": [
    "agg.ratio <- data.frame(\"cell_type\"=agg.IVF$cell_type,\n",
    "                        \"ratio\"= agg.NT$cell_count/agg.IVF$cell_count,\n",
    "                        \"colors\"=my_color_palette,\n",
    "                        stringAsFactor=TRUE)\n",
    "\n",
    "rownames(agg.ratio) <- agg.ratio$cell_type\n",
    "\n"
   ]
  },
  {
   "cell_type": "code",
   "execution_count": 26,
   "metadata": {
    "kernel": "R"
   },
   "outputs": [],
   "source": [
    "agg.ratio$cell_type <- factor(agg.ratio$cell_type,\n",
    "                              levels = c(\"1\",\"2\",\"4\",\"5\",\"6\",\"0\",\"3\",\"8\",\"9\",\"7\"))\n",
    "\n",
    "agg.ratio <- agg.ratio[c(\"1\",\"2\",\"4\",\"5\",\"6\",\"0\",\"3\",\"8\",\"9\",\"7\"),]\n",
    "agg.ratio$colors <- factor(agg.ratio$colors,\n",
    "                              levels = agg.ratio$colors)\n",
    "agg.ratio$cell_names <- c(\"Goblet cells I\",\n",
    "                         \"Goblet cells II\",\n",
    "                         \"Cement gland primordium\",\n",
    "                         \"Eye primordium/anterior neural plate\",\n",
    "                         \"Chordal Neural plate\",\n",
    "                         \"Non-neural ectoderm\",\n",
    "                         \"Basal stem cells I\",\n",
    "                         \"Basal stem cells II\",\n",
    "                         \"Mixed characteristics\",\n",
    "                         \"Ciliated epidermal progenitors\")\n",
    "\n",
    "agg.ratio$cell_names <- factor(agg.ratio$cell_names,\n",
    "                              levels = agg.ratio$cell_names)"
   ]
  },
  {
   "cell_type": "code",
   "execution_count": 56,
   "metadata": {
    "kernel": "R"
   },
   "outputs": [
    {
     "data": {
      "text/html": [
       "<strong>pdf:</strong> 2"
      ],
      "text/latex": [
       "\\textbf{pdf:} 2"
      ],
      "text/markdown": [
       "**pdf:** 2"
      ],
      "text/plain": [
       "pdf \n",
       "  2 "
      ]
     },
     "metadata": {},
     "output_type": "display_data"
    }
   ],
   "source": [
    "library(desiderata)\n",
    "\n",
    "options(repr.plot.width=10,repr.plot.height=10)\n",
    "pdf(file = \"./PLOTS/cell_type_composition.pdf\",width=10,height=10)\n",
    "p <- ggplot(agg.ratio, aes(order=cell_names, y=ratio, x=cell_names)) \n",
    "\n",
    "p + geom_bar(\n",
    "    position=dodge, stat=\"identity\", show.legend = FALSE, aes(fill=cell_names)) +\n",
    "  scale_fill_manual(values = as.vector(agg.ratio$colors)) + theme(\n",
    "            axis.text.x = element_text(color=\"black\", vjust=0.6,\n",
    "                           size=16,angle=45),\n",
    "            axis.text.y = element_text(color=\"black\", \n",
    "                           size=16),\n",
    "            panel.grid.major = element_blank(), \n",
    "            panel.grid.minor = element_blank(),\n",
    "            panel.background = element_blank(), axis.line = element_line(colour = \"black\"),\n",
    "            plot.title = element_text(color=\"black\", size=14, face=\"bold\",hjust = 0.5),\n",
    "            axis.title.x = element_text(color=\"black\", size=14, face=\"bold\"),\n",
    "            axis.title.y = element_text(color=\"black\", size=16, face=\"bold\")\n",
    ") + labs(title=\"\",\n",
    "        x =\"\", y = \"Ratio of mean fraction of cells per condition (NT/IVF)\") + rotate_x_text(angle=-90,valign=0.5) + geom_text(\n",
    "      aes(label=c(\"\",\"\",\"*\",\"\",\"\",\"\",\"*\",\"*\",\"**\",'')),\n",
    "      size=9, position=position_dodge(width=0.9), vjust=-0.01) +geom_hline(\n",
    "      yintercept=1, linetype='dashed', color='black', size=1)\n",
    "dev.off()"
   ]
  },
  {
   "cell_type": "code",
   "execution_count": 58,
   "metadata": {
    "kernel": "R"
   },
   "outputs": [
    {
     "data": {
      "text/plain": [
       "R version 3.5.2 (2018-12-20)\n",
       "Platform: x86_64-apple-darwin15.6.0 (64-bit)\n",
       "Running under: macOS Mojave 10.14.6\n",
       "\n",
       "Matrix products: default\n",
       "BLAS: /Library/Frameworks/R.framework/Versions/3.5/Resources/lib/libRblas.0.dylib\n",
       "LAPACK: /Library/Frameworks/R.framework/Versions/3.5/Resources/lib/libRlapack.dylib\n",
       "\n",
       "locale:\n",
       "[1] C/UTF-8/C/C/C/C\n",
       "\n",
       "attached base packages:\n",
       "[1] stats     graphics  grDevices utils     datasets  methods   base     \n",
       "\n",
       "other attached packages:\n",
       " [1] desiderata_0.38.0 scales_1.1.1      ggsignif_0.6.0    plotrix_3.7-8    \n",
       " [5] mdscore_0.1-3     MASS_7.3-53       corrplot_0.84     gplots_3.1.1     \n",
       " [9] feather_0.3.5     repr_1.1.0        cowplot_1.1.0     ggplot2_3.3.2    \n",
       "[13] Seurat_3.1.4     \n",
       "\n",
       "loaded via a namespace (and not attached):\n",
       "  [1] TH.data_1.0-10      Rtsne_0.15          colorspace_2.0-0   \n",
       "  [4] ellipsis_0.3.1      ggridges_0.5.2      IRdisplay_0.7.0    \n",
       "  [7] base64enc_0.1-3     leiden_0.3.5        listenv_0.8.0      \n",
       " [10] farver_2.0.3        ggrepel_0.8.2       mvtnorm_1.1-0      \n",
       " [13] mathjaxr_1.0-1      codetools_0.2-18    splines_3.5.2      \n",
       " [16] mnormt_1.5-6        TFisher_0.2.0       IRkernel_1.1.1     \n",
       " [19] jsonlite_1.7.1      ica_1.0-2           cluster_2.1.0      \n",
       " [22] png_0.1-7           uwot_0.1.9          sctransform_0.2.1  \n",
       " [25] compiler_3.5.2      httr_1.4.2          Matrix_1.2-18      \n",
       " [28] lazyeval_0.2.2      htmltools_0.5.0     tools_3.5.2        \n",
       " [31] rsvd_1.0.3          igraph_1.2.5        gtable_0.3.0       \n",
       " [34] glue_1.4.2          RANN_2.6.1          reshape2_1.4.4     \n",
       " [37] dplyr_1.0.2         Rcpp_1.0.5          Biobase_2.42.0     \n",
       " [40] vctrs_0.3.5         multtest_2.38.0     ape_5.3            \n",
       " [43] nlme_3.1-145        gbRd_0.4-11         lmtest_0.9-37      \n",
       " [46] stringr_1.4.0       globals_0.14.0      rbibutils_2.0      \n",
       " [49] lifecycle_0.2.0     irlba_2.3.3         gtools_3.8.2       \n",
       " [52] future_1.20.1       zoo_1.8-8           hms_0.5.3          \n",
       " [55] parallel_3.5.2      sandwich_3.0-0      RColorBrewer_1.1-2 \n",
       " [58] reticulate_1.18     pbapply_1.4-3       gridExtra_2.3      \n",
       " [61] stringi_1.5.3       mutoss_0.1-12       caTools_1.17.1.3   \n",
       " [64] BiocGenerics_0.28.0 Rdpack_2.1          rlang_0.4.9        \n",
       " [67] pkgconfig_2.0.3     bitops_1.0-6        evaluate_0.14      \n",
       " [70] lattice_0.20-41     ROCR_1.0-7          purrr_0.3.4        \n",
       " [73] patchwork_1.1.0     htmlwidgets_1.5.2   labeling_0.4.2     \n",
       " [76] tidyselect_1.1.0    parallelly_1.21.0   RcppAnnoy_0.0.17   \n",
       " [79] plyr_1.8.6          magrittr_2.0.1      R6_2.5.0           \n",
       " [82] generics_0.1.0      multcomp_1.4-15     pbdZMQ_0.3-3.1     \n",
       " [85] pillar_1.4.7        withr_2.3.0         sn_1.6-2           \n",
       " [88] fitdistrplus_1.1-1  survival_3.2-7      tibble_3.0.4       \n",
       " [91] future.apply_1.6.0  tsne_0.1-3          crayon_1.3.4       \n",
       " [94] uuid_0.1-4          KernSmooth_2.23-16  plotly_4.9.2.1     \n",
       " [97] grid_3.5.2          data.table_1.12.8   metap_1.4          \n",
       "[100] digest_0.6.27       tidyr_1.1.2         numDeriv_2016.8-1.1\n",
       "[103] stats4_3.5.2        munsell_0.5.0       viridisLite_0.3.0  "
      ]
     },
     "metadata": {},
     "output_type": "display_data"
    }
   ],
   "source": [
    "sessionInfo()"
   ]
  }
 ],
 "metadata": {
  "kernelspec": {
   "display_name": "SoS",
   "language": "sos",
   "name": "sos"
  },
  "language_info": {
   "codemirror_mode": "sos",
   "file_extension": ".sos",
   "mimetype": "text/x-sos",
   "name": "sos",
   "nbconvert_exporter": "sos_notebook.converter.SoS_Exporter",
   "pygments_lexer": "sos"
  },
  "sos": {
   "kernels": [
    [
     "R",
     "ir",
     "R",
     "#DCDCDA",
     "r"
    ],
    [
     "SoS",
     "sos",
     "",
     "",
     "sos"
    ]
   ],
   "panel": {
    "displayed": true,
    "height": 0
   },
   "version": "0.19.3"
  },
  "toc": {
   "base_numbering": 1,
   "nav_menu": {},
   "number_sections": true,
   "sideBar": true,
   "skip_h1_title": false,
   "title_cell": "Table of Contents",
   "title_sidebar": "Contents",
   "toc_cell": false,
   "toc_position": {},
   "toc_section_display": true,
   "toc_window_display": false
  }
 },
 "nbformat": 4,
 "nbformat_minor": 2
}
